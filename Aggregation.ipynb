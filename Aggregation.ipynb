{
 "cells": [
  {
   "cell_type": "code",
   "execution_count": 11,
   "metadata": {},
   "outputs": [],
   "source": [
    "import pandas as pd\n",
    "import numpy as np\n",
    "import os\n",
    "import matplotlib.pyplot as plt\n"
   ]
  },
  {
   "cell_type": "code",
   "execution_count": 3,
   "metadata": {},
   "outputs": [],
   "source": [
    "a='Data'\n",
    "b='sales_train_validation.csv'\n",
    "sale=pd.read_csv(os.path.join(a,b))\n"
   ]
  },
  {
   "cell_type": "code",
   "execution_count": 6,
   "metadata": {},
   "outputs": [],
   "source": [
    "class LevelsCreater:\n",
    "    def __init__(self,sales_train_validation12):\n",
    "        self.sales_train_validation12 = sales_train_validation12\n",
    "        self.d_cols =  list(self.sales_train_validation12.columns[6:])\n",
    "    \n",
    "    def level_11(self):\n",
    "        return self.sales_train_validation12[['item_id', 'state_id'] + self.d_cols].groupby(['item_id', 'state_id'], as_index=False).sum()\n",
    "        \n",
    "    def level_10(self):\n",
    "        return self.sales_train_validation12[['item_id'] + self.d_cols].groupby(['item_id'], as_index=False).sum()\n",
    "        \n",
    "    def level_9(self):\n",
    "        return self.sales_train_validation12[['store_id', 'dept_id'] + self.d_cols].groupby(['store_id', 'dept_id'], as_index=False).sum()\n",
    "        \n",
    "    def level_8(self):\n",
    "        return self.sales_train_validation12[['store_id', 'cat_id'] + self.d_cols].groupby(['store_id', 'cat_id'], as_index=False).sum()\n",
    "        \n",
    "    def level_7(self):\n",
    "        return self.sales_train_validation12[['state_id', 'dept_id'] + self.d_cols].groupby(['state_id', 'dept_id'], as_index=False).sum()\n",
    "        \n",
    "    def level_6(self):\n",
    "        return self.sales_train_validation12[['state_id', 'cat_id'] + self.d_cols].groupby(['state_id', 'cat_id'], as_index=False).sum()\n",
    "        \n",
    "    def level_5(self):\n",
    "        return self.sales_train_validation12[['dept_id'] + self.d_cols].groupby(['dept_id'], as_index=False).sum()\n",
    "    \n",
    "    def level_4(self):\n",
    "        return self.sales_train_validation12[['cat_id'] + self.d_cols].groupby(['cat_id'], as_index=False).sum()\n",
    "        \n",
    "    def level_3(self):\n",
    "        return self.sales_train_validation12[['store_id'] + self.d_cols].groupby(['store_id'], as_index=False).sum()\n",
    "        \n",
    "    def level_2(self):\n",
    "        return self.sales_train_validation12[['state_id'] + self.d_cols].groupby(['state_id'], as_index=False).sum()\n",
    "        \n",
    "    def level_1(self):\n",
    "        return pd.DataFrame(self.sales_train_validation12[self.d_cols].sum()).transpose()"
   ]
  },
  {
   "cell_type": "code",
   "execution_count": 7,
   "metadata": {},
   "outputs": [],
   "source": [
    "Generatelev = LevelsCreater(sale)\n",
    "level11 = Generatelev.level_11()\n",
    "level10 = Generatelev.level_10()\n",
    "level9 = Generatelev.level_9()\n",
    "level8 = Generatelev.level_8()\n",
    "level7 = Generatelev.level_7()\n",
    "level6 = Generatelev.level_6()\n",
    "level5 = Generatelev.level_5()\n",
    "level4 = Generatelev.level_4()\n",
    "level3 = Generatelev.level_3()\n",
    "level2 = Generatelev.level_2()\n",
    "level1 = Generatelev.level_1()"
   ]
  },
  {
   "cell_type": "code",
   "execution_count": 19,
   "metadata": {},
   "outputs": [
    {
     "data": {
      "text/html": [
       "<div>\n",
       "<style scoped>\n",
       "    .dataframe tbody tr th:only-of-type {\n",
       "        vertical-align: middle;\n",
       "    }\n",
       "\n",
       "    .dataframe tbody tr th {\n",
       "        vertical-align: top;\n",
       "    }\n",
       "\n",
       "    .dataframe thead th {\n",
       "        text-align: right;\n",
       "    }\n",
       "</style>\n",
       "<table border=\"1\" class=\"dataframe\">\n",
       "  <thead>\n",
       "    <tr style=\"text-align: right;\">\n",
       "      <th></th>\n",
       "      <th>d_1</th>\n",
       "      <th>d_2</th>\n",
       "      <th>d_3</th>\n",
       "      <th>d_4</th>\n",
       "      <th>d_5</th>\n",
       "      <th>d_6</th>\n",
       "      <th>d_7</th>\n",
       "      <th>d_8</th>\n",
       "      <th>d_9</th>\n",
       "      <th>d_10</th>\n",
       "      <th>...</th>\n",
       "      <th>d_1904</th>\n",
       "      <th>d_1905</th>\n",
       "      <th>d_1906</th>\n",
       "      <th>d_1907</th>\n",
       "      <th>d_1908</th>\n",
       "      <th>d_1909</th>\n",
       "      <th>d_1910</th>\n",
       "      <th>d_1911</th>\n",
       "      <th>d_1912</th>\n",
       "      <th>d_1913</th>\n",
       "    </tr>\n",
       "  </thead>\n",
       "  <tbody>\n",
       "    <tr>\n",
       "      <th>0</th>\n",
       "      <td>32631</td>\n",
       "      <td>31749</td>\n",
       "      <td>23783</td>\n",
       "      <td>25412</td>\n",
       "      <td>19146</td>\n",
       "      <td>29211</td>\n",
       "      <td>28010</td>\n",
       "      <td>37932</td>\n",
       "      <td>32736</td>\n",
       "      <td>25572</td>\n",
       "      <td>...</td>\n",
       "      <td>41789</td>\n",
       "      <td>48362</td>\n",
       "      <td>51640</td>\n",
       "      <td>38059</td>\n",
       "      <td>37570</td>\n",
       "      <td>35343</td>\n",
       "      <td>35033</td>\n",
       "      <td>40517</td>\n",
       "      <td>48962</td>\n",
       "      <td>49795</td>\n",
       "    </tr>\n",
       "  </tbody>\n",
       "</table>\n",
       "<p>1 rows × 1913 columns</p>\n",
       "</div>"
      ],
      "text/plain": [
       "     d_1    d_2    d_3    d_4    d_5    d_6    d_7    d_8    d_9   d_10  ...  \\\n",
       "0  32631  31749  23783  25412  19146  29211  28010  37932  32736  25572  ...   \n",
       "\n",
       "   d_1904  d_1905  d_1906  d_1907  d_1908  d_1909  d_1910  d_1911  d_1912  \\\n",
       "0   41789   48362   51640   38059   37570   35343   35033   40517   48962   \n",
       "\n",
       "   d_1913  \n",
       "0   49795  \n",
       "\n",
       "[1 rows x 1913 columns]"
      ]
     },
     "execution_count": 19,
     "metadata": {},
     "output_type": "execute_result"
    }
   ],
   "source": []
  },
  {
   "cell_type": "code",
   "execution_count": null,
   "metadata": {},
   "outputs": [],
   "source": []
  },
  {
   "cell_type": "code",
   "execution_count": 1,
   "metadata": {},
   "outputs": [
    {
     "data": {
      "text/plain": [
       "list"
      ]
     },
     "execution_count": 1,
     "metadata": {},
     "output_type": "execute_result"
    }
   ],
   "source": []
  }
 ],
 "metadata": {
  "kernelspec": {
   "display_name": "Python 3",
   "language": "python",
   "name": "python3"
  },
  "language_info": {
   "codemirror_mode": {
    "name": "ipython",
    "version": 3
   },
   "file_extension": ".py",
   "mimetype": "text/x-python",
   "name": "python",
   "nbconvert_exporter": "python",
   "pygments_lexer": "ipython3",
   "version": "3.7.4"
  }
 },
 "nbformat": 4,
 "nbformat_minor": 2
}
